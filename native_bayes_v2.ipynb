{
  "nbformat": 4,
  "nbformat_minor": 0,
  "metadata": {
    "colab": {
      "name": "native-bayes.ipynb",
      "provenance": [],
      "collapsed_sections": [],
      "include_colab_link": true
    },
    "kernelspec": {
      "name": "python3",
      "display_name": "Python 3"
    }
  },
  "cells": [
    {
      "cell_type": "markdown",
      "metadata": {
        "id": "view-in-github",
        "colab_type": "text"
      },
      "source": [
        "<a href=\"https://colab.research.google.com/github/nhattientran/game-comment/blob/master/native_bayes_v2.ipynb\" target=\"_parent\"><img src=\"https://colab.research.google.com/assets/colab-badge.svg\" alt=\"Open In Colab\"/></a>"
      ]
    },
    {
      "cell_type": "markdown",
      "metadata": {
        "id": "jGKnQXetgFnz",
        "colab_type": "text"
      },
      "source": [
        "#1 : Đọc dữ liệu\n"
      ]
    },
    {
      "cell_type": "code",
      "metadata": {
        "id": "9BsxsiVnQDc0",
        "colab_type": "code",
        "colab": {}
      },
      "source": [
        "import pandas as pd\n",
        "pd.set_option('max_rows',None,'max_columns',None)"
      ],
      "execution_count": 14,
      "outputs": []
    },
    {
      "cell_type": "code",
      "metadata": {
        "id": "RxYamy_vQ3Op",
        "colab_type": "code",
        "colab": {}
      },
      "source": [
        "data=pd.read_csv(\"https://github.com/nhattientran/game-comment/blob/master/data/allgame.csv?raw=true\")"
      ],
      "execution_count": 15,
      "outputs": []
    },
    {
      "cell_type": "markdown",
      "metadata": {
        "id": "543s5RFogKEW",
        "colab_type": "text"
      },
      "source": [
        "#2 : Thống kê dữ liệu"
      ]
    },
    {
      "cell_type": "code",
      "metadata": {
        "id": "2BTOkOrFedBc",
        "colab_type": "code",
        "colab": {
          "base_uri": "https://localhost:8080/",
          "height": 204
        },
        "outputId": "821ac3a3-c3a9-47c6-dde1-d89f6a751e32"
      },
      "source": [
        "data.head()"
      ],
      "execution_count": 16,
      "outputs": [
        {
          "output_type": "execute_result",
          "data": {
            "text/html": [
              "<div>\n",
              "<style scoped>\n",
              "    .dataframe tbody tr th:only-of-type {\n",
              "        vertical-align: middle;\n",
              "    }\n",
              "\n",
              "    .dataframe tbody tr th {\n",
              "        vertical-align: top;\n",
              "    }\n",
              "\n",
              "    .dataframe thead th {\n",
              "        text-align: right;\n",
              "    }\n",
              "</style>\n",
              "<table border=\"1\" class=\"dataframe\">\n",
              "  <thead>\n",
              "    <tr style=\"text-align: right;\">\n",
              "      <th></th>\n",
              "      <th>Unnamed: 0</th>\n",
              "      <th>name</th>\n",
              "      <th>content</th>\n",
              "      <th>reconmended</th>\n",
              "      <th>posted</th>\n",
              "    </tr>\n",
              "  </thead>\n",
              "  <tbody>\n",
              "    <tr>\n",
              "      <th>0</th>\n",
              "      <td>0</td>\n",
              "      <td>Cheating Death</td>\n",
              "      <td>\\nResident Evil that we deserve.\\nCapcom. I ha...</td>\n",
              "      <td>Recommended</td>\n",
              "      <td>29 January, 2019</td>\n",
              "    </tr>\n",
              "    <tr>\n",
              "      <th>1</th>\n",
              "      <td>1</td>\n",
              "      <td>Kibblekaze</td>\n",
              "      <td>\\nI am finally home again. Raccoon City. Now t...</td>\n",
              "      <td>Recommended</td>\n",
              "      <td>24 January, 2019</td>\n",
              "    </tr>\n",
              "    <tr>\n",
              "      <th>2</th>\n",
              "      <td>2</td>\n",
              "      <td>AUD</td>\n",
              "      <td>\\nProbably the best remake game I've ever played</td>\n",
              "      <td>Recommended</td>\n",
              "      <td>26 January, 2019</td>\n",
              "    </tr>\n",
              "    <tr>\n",
              "      <th>3</th>\n",
              "      <td>3</td>\n",
              "      <td>⛧ M†ropele ⛧</td>\n",
              "      <td>\\nWhat a way to start off 2019 dude. My god..\\...</td>\n",
              "      <td>Recommended</td>\n",
              "      <td>24 January, 2019</td>\n",
              "    </tr>\n",
              "    <tr>\n",
              "      <th>4</th>\n",
              "      <td>4</td>\n",
              "      <td>Chase</td>\n",
              "      <td>\\nMy only regret playing this is now I want Re...</td>\n",
              "      <td>Recommended</td>\n",
              "      <td>11 November, 2019</td>\n",
              "    </tr>\n",
              "  </tbody>\n",
              "</table>\n",
              "</div>"
            ],
            "text/plain": [
              "   Unnamed: 0            name  \\\n",
              "0           0  Cheating Death   \n",
              "1           1      Kibblekaze   \n",
              "2           2             AUD   \n",
              "3           3    ⛧ M†ropele ⛧   \n",
              "4           4           Chase   \n",
              "\n",
              "                                             content  reconmended  \\\n",
              "0  \\nResident Evil that we deserve.\\nCapcom. I ha...  Recommended   \n",
              "1  \\nI am finally home again. Raccoon City. Now t...  Recommended   \n",
              "2   \\nProbably the best remake game I've ever played  Recommended   \n",
              "3  \\nWhat a way to start off 2019 dude. My god..\\...  Recommended   \n",
              "4  \\nMy only regret playing this is now I want Re...  Recommended   \n",
              "\n",
              "               posted  \n",
              "0    29 January, 2019  \n",
              "1    24 January, 2019  \n",
              "2    26 January, 2019  \n",
              "3    24 January, 2019  \n",
              "4   11 November, 2019  "
            ]
          },
          "metadata": {
            "tags": []
          },
          "execution_count": 16
        }
      ]
    },
    {
      "cell_type": "code",
      "metadata": {
        "id": "EbrMLiVua6kt",
        "colab_type": "code",
        "colab": {
          "base_uri": "https://localhost:8080/",
          "height": 221
        },
        "outputId": "466e7e54-c56b-4e66-bc7a-7f056538eaca"
      },
      "source": [
        "data.info()"
      ],
      "execution_count": 17,
      "outputs": [
        {
          "output_type": "stream",
          "text": [
            "<class 'pandas.core.frame.DataFrame'>\n",
            "RangeIndex: 1788 entries, 0 to 1787\n",
            "Data columns (total 5 columns):\n",
            " #   Column       Non-Null Count  Dtype \n",
            "---  ------       --------------  ----- \n",
            " 0   Unnamed: 0   1788 non-null   int64 \n",
            " 1   name         1788 non-null   object\n",
            " 2   content      1788 non-null   object\n",
            " 3   reconmended  1788 non-null   object\n",
            " 4   posted       1788 non-null   object\n",
            "dtypes: int64(1), object(4)\n",
            "memory usage: 70.0+ KB\n"
          ],
          "name": "stdout"
        }
      ]
    },
    {
      "cell_type": "code",
      "metadata": {
        "id": "R5vBsbYlYWsM",
        "colab_type": "code",
        "colab": {
          "base_uri": "https://localhost:8080/",
          "height": 34
        },
        "outputId": "6586545f-15c3-423a-e189-0c8f2cdc5d03"
      },
      "source": [
        "data.columns"
      ],
      "execution_count": 18,
      "outputs": [
        {
          "output_type": "execute_result",
          "data": {
            "text/plain": [
              "Index(['Unnamed: 0', 'name', 'content', 'reconmended', 'posted'], dtype='object')"
            ]
          },
          "metadata": {
            "tags": []
          },
          "execution_count": 18
        }
      ]
    },
    {
      "cell_type": "code",
      "metadata": {
        "id": "rXwt1WKzYb2v",
        "colab_type": "code",
        "colab": {
          "base_uri": "https://localhost:8080/",
          "height": 386
        },
        "outputId": "6e4616c0-79fe-420a-8355-114698aac358"
      },
      "source": [
        "import seaborn as sns\n",
        "sns.catplot(x='reconmended',kind='count',data = data)"
      ],
      "execution_count": 19,
      "outputs": [
        {
          "output_type": "execute_result",
          "data": {
            "text/plain": [
              "<seaborn.axisgrid.FacetGrid at 0x7ff0e807e7f0>"
            ]
          },
          "metadata": {
            "tags": []
          },
          "execution_count": 19
        },
        {
          "output_type": "display_data",
          "data": {
            "image/png": "[encoded data removed]",
            "text/plain": [
              "<Figure size 360x360 with 1 Axes>"
            ]
          },
          "metadata": {
            "tags": [],
            "needs_background": "light"
          }
        }
      ]
    },
    {
      "cell_type": "markdown",
      "metadata": {
        "id": "Fa7-E70EgORi",
        "colab_type": "text"
      },
      "source": [
        "#3 : Tiền xử lý dữ liệu"
      ]
    },
    {
      "cell_type": "markdown",
      "metadata": {
        "id": "89yKd5vjgsSb",
        "colab_type": "text"
      },
      "source": [
        "**Xử lý chuỗi**"
      ]
    },
    {
      "cell_type": "code",
      "metadata": {
        "id": "cGzRszHTTMnl",
        "colab_type": "code",
        "colab": {
          "base_uri": "https://localhost:8080/",
          "height": 102
        },
        "outputId": "ebfcff0c-b309-4853-e3dd-9bb8dc5cb5dd"
      },
      "source": [
        "import nltk\n",
        "import re\n",
        "import string\n",
        "nltk.download(\"stopwords\")\n",
        "from nltk.corpus import stopwords\n",
        "from nltk.stem.porter import PorterStemmer\n",
        "from nltk.stem import WordNetLemmatizer\n",
        "nltk.download('wordnet')"
      ],
      "execution_count": 20,
      "outputs": [
        {
          "output_type": "stream",
          "text": [
            "[nltk_data] Downloading package stopwords to /root/nltk_data...\n",
            "[nltk_data]   Package stopwords is already up-to-date!\n",
            "[nltk_data] Downloading package wordnet to /root/nltk_data...\n",
            "[nltk_data]   Package wordnet is already up-to-date!\n"
          ],
          "name": "stdout"
        },
        {
          "output_type": "execute_result",
          "data": {
            "text/plain": [
              "True"
            ]
          },
          "metadata": {
            "tags": []
          },
          "execution_count": 20
        }
      ]
    },
    {
      "cell_type": "code",
      "metadata": {
        "id": "pWZ4phzIfXVe",
        "colab_type": "code",
        "colab": {}
      },
      "source": [
        "def clean_text_round1(text):\n",
        "    #Make text lowercase, remove text in angle brackets ,square brackets,round brakets ,curly brackets,\n",
        "    text = re.sub('\\<.*?\\>','',text)\n",
        "    text = re.sub('\\[.*?\\]', '', text)\n",
        "    text = re.sub('\\(.*?\\)', '', text)\n",
        "    text = re.sub('\\{.*?\\}', '', text)\n",
        "    return text"
      ],
      "execution_count": 21,
      "outputs": []
    },
    {
      "cell_type": "code",
      "metadata": {
        "id": "EhXXxefifYxf",
        "colab_type": "code",
        "colab": {}
      },
      "source": [
        "def clean_text_round2(text):\n",
        "  #remove punctuation and remove words containing numbers,remove emoji\n",
        "  text = re.sub('\\w*\\d\\w*', '', text)\n",
        "  text = re.sub('[%s]' % re.escape(string.punctuation), '', text)\n",
        "  text=re.sub('[^a-zA-Z]',' ',text)\n",
        "  return text"
      ],
      "execution_count": 22,
      "outputs": []
    },
    {
      "cell_type": "code",
      "metadata": {
        "id": "AmGxoWcJfbrA",
        "colab_type": "code",
        "colab": {}
      },
      "source": [
        "def clean_text_round3(review):\n",
        "  # change word to normoal word\n",
        "  review=review.lower()\n",
        "  review = review.split()\n",
        "  wn = WordNetLemmatizer()\n",
        "  review = [wn.lemmatize(word,pos=\"v\") for word in review if word not in stopwords.words(\"english\")]\n",
        "  ps = PorterStemmer()\n",
        "  review = [ps.stem(word) for word in review if word not in stopwords.words(\"english\")]\n",
        "  review = \" \".join(review)\n",
        "  return review"
      ],
      "execution_count": 23,
      "outputs": []
    },
    {
      "cell_type": "code",
      "metadata": {
        "id": "8NJE9pPhf6JH",
        "colab_type": "code",
        "colab": {}
      },
      "source": [
        "text = data['content']"
      ],
      "execution_count": 24,
      "outputs": []
    },
    {
      "cell_type": "code",
      "metadata": {
        "id": "yZRYSYICfgsh",
        "colab_type": "code",
        "colab": {}
      },
      "source": [
        "text=text.apply(clean_text_round1)"
      ],
      "execution_count": 25,
      "outputs": []
    },
    {
      "cell_type": "code",
      "metadata": {
        "id": "TlQy_gjTfj8v",
        "colab_type": "code",
        "colab": {}
      },
      "source": [
        "text=text.apply(clean_text_round2)"
      ],
      "execution_count": 26,
      "outputs": []
    },
    {
      "cell_type": "code",
      "metadata": {
        "id": "V4lGdcT0fm5c",
        "colab_type": "code",
        "colab": {}
      },
      "source": [
        "text=text.apply(clean_text_round3)"
      ],
      "execution_count": 27,
      "outputs": []
    },
    {
      "cell_type": "markdown",
      "metadata": {
        "id": "pD1NH3_OhASS",
        "colab_type": "text"
      },
      "source": [
        "**CountVectorizer**"
      ]
    },
    {
      "cell_type": "code",
      "metadata": {
        "id": "2g3gVJQlb9C1",
        "colab_type": "code",
        "colab": {}
      },
      "source": [
        "from sklearn.feature_extraction.text import CountVectorizer\n",
        "cv = CountVectorizer()\n",
        "X_cv= cv.fit_transform(text)"
      ],
      "execution_count": 28,
      "outputs": []
    },
    {
      "cell_type": "code",
      "metadata": {
        "id": "W4kQjpmlezft",
        "colab_type": "code",
        "colab": {
          "base_uri": "https://localhost:8080/",
          "height": 34
        },
        "outputId": "e6b7f5ca-957c-45e1-ef57-a1562a3b13d0"
      },
      "source": [
        "X_cv.shape"
      ],
      "execution_count": 29,
      "outputs": [
        {
          "output_type": "execute_result",
          "data": {
            "text/plain": [
              "(1788, 7879)"
            ]
          },
          "metadata": {
            "tags": []
          },
          "execution_count": 29
        }
      ]
    },
    {
      "cell_type": "markdown",
      "metadata": {
        "id": "L1kgREEOhP5F",
        "colab_type": "text"
      },
      "source": [
        "**Phân chia dữ liệu**"
      ]
    },
    {
      "cell_type": "code",
      "metadata": {
        "id": "7rjNSACeb2F7",
        "colab_type": "code",
        "colab": {}
      },
      "source": [
        "Y = data['reconmended']"
      ],
      "execution_count": 30,
      "outputs": []
    },
    {
      "cell_type": "code",
      "metadata": {
        "id": "nz6VeEYve_cw",
        "colab_type": "code",
        "colab": {}
      },
      "source": [
        "from sklearn.model_selection import train_test_split\n",
        "X_train_cv, X_test_cv,Y_train,Y_test = train_test_split(X_cv,Y,train_size=0.8,random_state=0)"
      ],
      "execution_count": 31,
      "outputs": []
    },
    {
      "cell_type": "markdown",
      "metadata": {
        "id": "TlRtWK8FgUwO",
        "colab_type": "text"
      },
      "source": [
        "#4 : Huấn luyện mô hình"
      ]
    },
    {
      "cell_type": "code",
      "metadata": {
        "id": "SjFEs0TZfjLV",
        "colab_type": "code",
        "colab": {
          "base_uri": "https://localhost:8080/",
          "height": 34
        },
        "outputId": "5c1d1a07-c5ae-48e3-a765-d9e7bd00858b"
      },
      "source": [
        "from sklearn.naive_bayes import MultinomialNB\n",
        "nb = MultinomialNB()\n",
        "nb.fit(X_train_cv,Y_train)"
      ],
      "execution_count": 32,
      "outputs": [
        {
          "output_type": "execute_result",
          "data": {
            "text/plain": [
              "MultinomialNB(alpha=1.0, class_prior=None, fit_prior=True)"
            ]
          },
          "metadata": {
            "tags": []
          },
          "execution_count": 32
        }
      ]
    },
    {
      "cell_type": "markdown",
      "metadata": {
        "id": "-wk_GAZBhrt0",
        "colab_type": "text"
      },
      "source": [
        "#5 : Đánh giá mô hình"
      ]
    },
    {
      "cell_type": "code",
      "metadata": {
        "id": "EkhsWj7Tk0kg",
        "colab_type": "code",
        "colab": {
          "base_uri": "https://localhost:8080/",
          "height": 483
        },
        "outputId": "e86b1b02-9908-45b0-9d67-549268bbecb4"
      },
      "source": [
        "from sklearn.metrics import confusion_matrix, classification_report\n",
        "from matplotlib import pyplot as plt\n",
        "Y_train_pred = nb.predict(X_train_cv)\n",
        "matrix = confusion_matrix(Y_train,Y_train_pred)\n",
        "class_names =['Reconmended','Not Reconmended']\n",
        "fig, ax = plt.subplots(figsize=(8,8))\n",
        "sns.heatmap(matrix, annot=True,xticklabels=class_names,yticklabels=class_names,ax = ax,fmt='g',cmap='coolwarm')\n",
        "plt.show()"
      ],
      "execution_count": 33,
      "outputs": [
        {
          "output_type": "display_data",
          "data": {
            "image/png": "[encoded data removed]",
            "text/plain": [
              "<Figure size 576x576 with 2 Axes>"
            ]
          },
          "metadata": {
            "tags": [],
            "needs_background": "light"
          }
        }
      ]
    },
    {
      "cell_type": "code",
      "metadata": {
        "id": "SJXorvwilDR3",
        "colab_type": "code",
        "colab": {
          "base_uri": "https://localhost:8080/",
          "height": 170
        },
        "outputId": "d124fa3d-35d0-4396-974f-6832c7e57e58"
      },
      "source": [
        "print(classification_report(Y_train,Y_train_pred))"
      ],
      "execution_count": 34,
      "outputs": [
        {
          "output_type": "stream",
          "text": [
            "                 precision    recall  f1-score   support\n",
            "\n",
            "Not Recommended       0.92      0.91      0.91       579\n",
            "    Recommended       0.94      0.95      0.94       851\n",
            "\n",
            "       accuracy                           0.93      1430\n",
            "      macro avg       0.93      0.93      0.93      1430\n",
            "   weighted avg       0.93      0.93      0.93      1430\n",
            "\n"
          ],
          "name": "stdout"
        }
      ]
    },
    {
      "cell_type": "code",
      "metadata": {
        "id": "yZVgvAMliHcr",
        "colab_type": "code",
        "colab": {
          "base_uri": "https://localhost:8080/",
          "height": 483
        },
        "outputId": "bb811b34-008b-41f7-d5b0-ebcd3bb5d747"
      },
      "source": [
        "Y_pred = nb.predict(X_test_cv)\n",
        "matrix = confusion_matrix(Y_test,Y_pred)\n",
        "class_names =['Reconmended','Not Reconmended']\n",
        "fig, ax = plt.subplots(figsize=(8,8))\n",
        "sns.heatmap(matrix, annot=True,xticklabels=class_names,yticklabels=class_names,ax = ax,fmt='g',cmap='coolwarm')\n",
        "plt.show()"
      ],
      "execution_count": 35,
      "outputs": [
        {
          "output_type": "display_data",
          "data": {
            "image/png": "[encoded data removed]",
            "text/plain": [
              "<Figure size 576x576 with 2 Axes>"
            ]
          },
          "metadata": {
            "tags": [],
            "needs_background": "light"
          }
        }
      ]
    },
    {
      "cell_type": "code",
      "metadata": {
        "id": "N3ILGUeyj1ek",
        "colab_type": "code",
        "colab": {
          "base_uri": "https://localhost:8080/",
          "height": 170
        },
        "outputId": "dff5d7ea-c337-4a1c-ef99-30511e96fcf3"
      },
      "source": [
        "print(classification_report(Y_test,Y_pred))"
      ],
      "execution_count": 36,
      "outputs": [
        {
          "output_type": "stream",
          "text": [
            "                 precision    recall  f1-score   support\n",
            "\n",
            "Not Recommended       0.87      0.84      0.85       147\n",
            "    Recommended       0.89      0.91      0.90       211\n",
            "\n",
            "       accuracy                           0.88       358\n",
            "      macro avg       0.88      0.88      0.88       358\n",
            "   weighted avg       0.88      0.88      0.88       358\n",
            "\n"
          ],
          "name": "stdout"
        }
      ]
    },
    {
      "cell_type": "code",
      "metadata": {
        "id": "b9aVVzaUf4w9",
        "colab_type": "code",
        "colab": {
          "base_uri": "https://localhost:8080/",
          "height": 34
        },
        "outputId": "b3bf428b-16ef-469b-c5e7-62280cb45bfc"
      },
      "source": [
        "print(\"Accuracy : \",nb.score(X_test_cv,Y_test))"
      ],
      "execution_count": 39,
      "outputs": [
        {
          "output_type": "stream",
          "text": [
            "Accuracy :  0.88268156424581\n"
          ],
          "name": "stdout"
        }
      ]
    },
    {
      "cell_type": "markdown",
      "metadata": {
        "id": "xhUvv7PEgaeF",
        "colab_type": "text"
      },
      "source": [
        "#6 : Lưu mô hình"
      ]
    },
    {
      "cell_type": "code",
      "metadata": {
        "id": "V_n6svQoh8uS",
        "colab_type": "code",
        "colab": {
          "base_uri": "https://localhost:8080/",
          "height": 34
        },
        "outputId": "897e988a-2614-47d9-f14b-99b832b007bd"
      },
      "source": [
        "import joblib\n",
        "joblib.dump(nb,'model.h5')"
      ],
      "execution_count": 38,
      "outputs": [
        {
          "output_type": "execute_result",
          "data": {
            "text/plain": [
              "['model.h5']"
            ]
          },
          "metadata": {
            "tags": []
          },
          "execution_count": 38
        }
      ]
    }
  ]
}