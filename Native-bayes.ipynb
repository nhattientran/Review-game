{
  "nbformat": 4,
  "nbformat_minor": 0,
  "metadata": {
    "colab": {
      "name": "cleandata.ipynb",
      "provenance": [],
      "collapsed_sections": [],
      "include_colab_link": true
    },
    "kernelspec": {
      "name": "python3",
      "display_name": "Python 3"
    }
  },
  "cells": [
    {
      "cell_type": "markdown",
      "metadata": {
        "id": "view-in-github",
        "colab_type": "text"
      },
      "source": [
        "<a href=\"https://colab.research.google.com/github/nhattientran/game-comment/blob/master/Native-bayes.ipynb\" target=\"_parent\"><img src=\"https://colab.research.google.com/assets/colab-badge.svg\" alt=\"Open In Colab\"/></a>"
      ]
    },
    {
      "cell_type": "markdown",
      "metadata": {
        "id": "jGKnQXetgFnz",
        "colab_type": "text"
      },
      "source": [
        "#1 : Đọc dữ liệu\n"
      ]
    },
    {
      "cell_type": "code",
      "metadata": {
        "id": "9BsxsiVnQDc0",
        "colab_type": "code",
        "colab": {}
      },
      "source": [
        "import pandas as pd\n",
        "pd.set_option('max_rows',None,'max_columns',None)"
      ],
      "execution_count": 48,
      "outputs": []
    },
    {
      "cell_type": "code",
      "metadata": {
        "id": "RxYamy_vQ3Op",
        "colab_type": "code",
        "colab": {}
      },
      "source": [
        "data=pd.read_csv(\"https://github.com/nhattientran/game-comment/blob/master/data/allgame.csv?raw=true\")"
      ],
      "execution_count": 49,
      "outputs": []
    },
    {
      "cell_type": "markdown",
      "metadata": {
        "id": "543s5RFogKEW",
        "colab_type": "text"
      },
      "source": [
        "#2 : Thống kê dữ liệu"
      ]
    },
    {
      "cell_type": "code",
      "metadata": {
        "id": "2BTOkOrFedBc",
        "colab_type": "code",
        "colab": {
          "base_uri": "https://localhost:8080/",
          "height": 204
        },
        "outputId": "449df9ce-63b6-4e13-dbd0-4ad2a73e6793"
      },
      "source": [
        "data.head()"
      ],
      "execution_count": 56,
      "outputs": [
        {
          "output_type": "execute_result",
          "data": {
            "text/html": [
              "<div>\n",
              "<style scoped>\n",
              "    .dataframe tbody tr th:only-of-type {\n",
              "        vertical-align: middle;\n",
              "    }\n",
              "\n",
              "    .dataframe tbody tr th {\n",
              "        vertical-align: top;\n",
              "    }\n",
              "\n",
              "    .dataframe thead th {\n",
              "        text-align: right;\n",
              "    }\n",
              "</style>\n",
              "<table border=\"1\" class=\"dataframe\">\n",
              "  <thead>\n",
              "    <tr style=\"text-align: right;\">\n",
              "      <th></th>\n",
              "      <th>Unnamed: 0</th>\n",
              "      <th>name</th>\n",
              "      <th>content</th>\n",
              "      <th>reconmended</th>\n",
              "      <th>posted</th>\n",
              "    </tr>\n",
              "  </thead>\n",
              "  <tbody>\n",
              "    <tr>\n",
              "      <th>0</th>\n",
              "      <td>0</td>\n",
              "      <td>Cheating Death</td>\n",
              "      <td>\\nResident Evil that we deserve.\\nCapcom. I ha...</td>\n",
              "      <td>Recommended</td>\n",
              "      <td>29 January, 2019</td>\n",
              "    </tr>\n",
              "    <tr>\n",
              "      <th>1</th>\n",
              "      <td>1</td>\n",
              "      <td>Kibblekaze</td>\n",
              "      <td>\\nI am finally home again. Raccoon City. Now t...</td>\n",
              "      <td>Recommended</td>\n",
              "      <td>24 January, 2019</td>\n",
              "    </tr>\n",
              "    <tr>\n",
              "      <th>2</th>\n",
              "      <td>2</td>\n",
              "      <td>AUD</td>\n",
              "      <td>\\nProbably the best remake game I've ever played</td>\n",
              "      <td>Recommended</td>\n",
              "      <td>26 January, 2019</td>\n",
              "    </tr>\n",
              "    <tr>\n",
              "      <th>3</th>\n",
              "      <td>3</td>\n",
              "      <td>⛧ M†ropele ⛧</td>\n",
              "      <td>\\nWhat a way to start off 2019 dude. My god..\\...</td>\n",
              "      <td>Recommended</td>\n",
              "      <td>24 January, 2019</td>\n",
              "    </tr>\n",
              "    <tr>\n",
              "      <th>4</th>\n",
              "      <td>4</td>\n",
              "      <td>Chase</td>\n",
              "      <td>\\nMy only regret playing this is now I want Re...</td>\n",
              "      <td>Recommended</td>\n",
              "      <td>11 November, 2019</td>\n",
              "    </tr>\n",
              "  </tbody>\n",
              "</table>\n",
              "</div>"
            ],
            "text/plain": [
              "   Unnamed: 0            name  \\\n",
              "0           0  Cheating Death   \n",
              "1           1      Kibblekaze   \n",
              "2           2             AUD   \n",
              "3           3    ⛧ M†ropele ⛧   \n",
              "4           4           Chase   \n",
              "\n",
              "                                             content  reconmended  \\\n",
              "0  \\nResident Evil that we deserve.\\nCapcom. I ha...  Recommended   \n",
              "1  \\nI am finally home again. Raccoon City. Now t...  Recommended   \n",
              "2   \\nProbably the best remake game I've ever played  Recommended   \n",
              "3  \\nWhat a way to start off 2019 dude. My god..\\...  Recommended   \n",
              "4  \\nMy only regret playing this is now I want Re...  Recommended   \n",
              "\n",
              "               posted  \n",
              "0    29 January, 2019  \n",
              "1    24 January, 2019  \n",
              "2    26 January, 2019  \n",
              "3    24 January, 2019  \n",
              "4   11 November, 2019  "
            ]
          },
          "metadata": {
            "tags": []
          },
          "execution_count": 56
        }
      ]
    },
    {
      "cell_type": "code",
      "metadata": {
        "id": "EbrMLiVua6kt",
        "colab_type": "code",
        "colab": {
          "base_uri": "https://localhost:8080/",
          "height": 221
        },
        "outputId": "8820ae43-0e6a-45d5-be05-5cd33145e1dd"
      },
      "source": [
        "data.info()"
      ],
      "execution_count": 50,
      "outputs": [
        {
          "output_type": "stream",
          "text": [
            "<class 'pandas.core.frame.DataFrame'>\n",
            "RangeIndex: 1788 entries, 0 to 1787\n",
            "Data columns (total 5 columns):\n",
            " #   Column       Non-Null Count  Dtype \n",
            "---  ------       --------------  ----- \n",
            " 0   Unnamed: 0   1788 non-null   int64 \n",
            " 1   name         1788 non-null   object\n",
            " 2   content      1788 non-null   object\n",
            " 3   reconmended  1788 non-null   object\n",
            " 4   posted       1788 non-null   object\n",
            "dtypes: int64(1), object(4)\n",
            "memory usage: 70.0+ KB\n"
          ],
          "name": "stdout"
        }
      ]
    },
    {
      "cell_type": "code",
      "metadata": {
        "id": "R5vBsbYlYWsM",
        "colab_type": "code",
        "colab": {
          "base_uri": "https://localhost:8080/",
          "height": 34
        },
        "outputId": "7cb773bd-048c-4919-cd40-dcb9c36541b0"
      },
      "source": [
        "data.columns"
      ],
      "execution_count": 37,
      "outputs": [
        {
          "output_type": "execute_result",
          "data": {
            "text/plain": [
              "Index(['Unnamed: 0', 'name', 'content', 'reconmended', 'posted'], dtype='object')"
            ]
          },
          "metadata": {
            "tags": []
          },
          "execution_count": 37
        }
      ]
    },
    {
      "cell_type": "code",
      "metadata": {
        "id": "rXwt1WKzYb2v",
        "colab_type": "code",
        "colab": {
          "base_uri": "https://localhost:8080/",
          "height": 386
        },
        "outputId": "2984af66-b6ab-4a16-9c75-42a32971c4d5"
      },
      "source": [
        "import seaborn as sns\n",
        "sns.catplot(x='reconmended',kind='count',data = data)"
      ],
      "execution_count": 51,
      "outputs": [
        {
          "output_type": "execute_result",
          "data": {
            "text/plain": [
              "<seaborn.axisgrid.FacetGrid at 0x7f9fdd1caf98>"
            ]
          },
          "metadata": {
            "tags": []
          },
          "execution_count": 51
        },
        {
          "output_type": "display_data",
          "data": {
            "image/png": "[encoded data removed]",
            "text/plain": [
              "<Figure size 360x360 with 1 Axes>"
            ]
          },
          "metadata": {
            "tags": [],
            "needs_background": "light"
          }
        }
      ]
    },
    {
      "cell_type": "markdown",
      "metadata": {
        "id": "Fa7-E70EgORi",
        "colab_type": "text"
      },
      "source": [
        "#3 : Tiền xử lý dữ liệu"
      ]
    },
    {
      "cell_type": "markdown",
      "metadata": {
        "id": "89yKd5vjgsSb",
        "colab_type": "text"
      },
      "source": [
        "**Xử lý chuỗi**"
      ]
    },
    {
      "cell_type": "code",
      "metadata": {
        "id": "cGzRszHTTMnl",
        "colab_type": "code",
        "colab": {
          "base_uri": "https://localhost:8080/",
          "height": 102
        },
        "outputId": "4b18ef69-8fae-417d-fe8b-d9bd937977ba"
      },
      "source": [
        "import nltk\n",
        "import re\n",
        "import string\n",
        "nltk.download(\"stopwords\")\n",
        "from nltk.corpus import stopwords\n",
        "from nltk.stem.porter import PorterStemmer\n",
        "from nltk.stem import WordNetLemmatizer\n",
        "nltk.download('wordnet')"
      ],
      "execution_count": 52,
      "outputs": [
        {
          "output_type": "stream",
          "text": [
            "[nltk_data] Downloading package stopwords to /root/nltk_data...\n",
            "[nltk_data]   Package stopwords is already up-to-date!\n",
            "[nltk_data] Downloading package wordnet to /root/nltk_data...\n",
            "[nltk_data]   Package wordnet is already up-to-date!\n"
          ],
          "name": "stdout"
        },
        {
          "output_type": "execute_result",
          "data": {
            "text/plain": [
              "True"
            ]
          },
          "metadata": {
            "tags": []
          },
          "execution_count": 52
        }
      ]
    },
    {
      "cell_type": "code",
      "metadata": {
        "id": "_9KrL8FIbWjE",
        "colab_type": "code",
        "colab": {}
      },
      "source": [
        "text = data['content']\n",
        "def preprocessor(review):\n",
        "  review=re.sub(\"[^a-zA-z]\",\" \",review)\n",
        "  review = review.split()\n",
        "  ps = PorterStemmer()\n",
        "  review = [ps.stem(word) for word in review if word not in stopwords.words(\"english\")]\n",
        "  review = \" \".join(review)\n",
        "  return review\n",
        "text = text.apply(preprocessor)"
      ],
      "execution_count": 41,
      "outputs": []
    },
    {
      "cell_type": "markdown",
      "metadata": {
        "id": "pD1NH3_OhASS",
        "colab_type": "text"
      },
      "source": [
        "**CountVectorizer**"
      ]
    },
    {
      "cell_type": "code",
      "metadata": {
        "id": "2g3gVJQlb9C1",
        "colab_type": "code",
        "colab": {}
      },
      "source": [
        "from sklearn.feature_extraction.text import CountVectorizer\n",
        "cv = CountVectorizer()\n",
        "X_cv= cv.fit_transform(text)"
      ],
      "execution_count": 57,
      "outputs": []
    },
    {
      "cell_type": "code",
      "metadata": {
        "id": "W4kQjpmlezft",
        "colab_type": "code",
        "colab": {
          "base_uri": "https://localhost:8080/",
          "height": 34
        },
        "outputId": "be936659-94b2-4738-d4da-16ab9f50d90f"
      },
      "source": [
        "X_cv.shape"
      ],
      "execution_count": 58,
      "outputs": [
        {
          "output_type": "execute_result",
          "data": {
            "text/plain": [
              "(1788, 7553)"
            ]
          },
          "metadata": {
            "tags": []
          },
          "execution_count": 58
        }
      ]
    },
    {
      "cell_type": "markdown",
      "metadata": {
        "id": "L1kgREEOhP5F",
        "colab_type": "text"
      },
      "source": [
        "**Phân chia dữ liệu**"
      ]
    },
    {
      "cell_type": "code",
      "metadata": {
        "id": "7rjNSACeb2F7",
        "colab_type": "code",
        "colab": {}
      },
      "source": [
        "Y = data['reconmended']"
      ],
      "execution_count": 59,
      "outputs": []
    },
    {
      "cell_type": "code",
      "metadata": {
        "id": "nz6VeEYve_cw",
        "colab_type": "code",
        "colab": {}
      },
      "source": [
        "from sklearn.model_selection import train_test_split\n",
        "X_train_cv, X_test_cv,Y_train,Y_test = train_test_split(X_cv,Y,train_size=0.8,random_state=0)"
      ],
      "execution_count": 61,
      "outputs": []
    },
    {
      "cell_type": "markdown",
      "metadata": {
        "id": "TlRtWK8FgUwO",
        "colab_type": "text"
      },
      "source": [
        "#4 : Huấn luyện mô hình"
      ]
    },
    {
      "cell_type": "code",
      "metadata": {
        "id": "SjFEs0TZfjLV",
        "colab_type": "code",
        "colab": {
          "base_uri": "https://localhost:8080/",
          "height": 34
        },
        "outputId": "c4d2d665-d4c6-4508-f6b6-0e9c6925aae4"
      },
      "source": [
        "from sklearn.naive_bayes import MultinomialNB\n",
        "nb = MultinomialNB()\n",
        "nb.fit(X_train_cv,Y_train)"
      ],
      "execution_count": 64,
      "outputs": [
        {
          "output_type": "execute_result",
          "data": {
            "text/plain": [
              "MultinomialNB(alpha=1.0, class_prior=None, fit_prior=True)"
            ]
          },
          "metadata": {
            "tags": []
          },
          "execution_count": 64
        }
      ]
    },
    {
      "cell_type": "markdown",
      "metadata": {
        "id": "-wk_GAZBhrt0",
        "colab_type": "text"
      },
      "source": [
        "#5 : Đánh giá mô hình"
      ]
    },
    {
      "cell_type": "code",
      "metadata": {
        "id": "EkhsWj7Tk0kg",
        "colab_type": "code",
        "colab": {
          "base_uri": "https://localhost:8080/",
          "height": 483
        },
        "outputId": "78e30ead-7f5b-42b9-d181-fc7ea34684da"
      },
      "source": [
        "from sklearn.metrics import confusion_matrix, classification_report\n",
        "from matplotlib import pyplot as plt\n",
        "Y_train_pred = nb.predict(X_train_cv)\n",
        "matrix = confusion_matrix(Y_train,Y_train_pred)\n",
        "class_names =['Reconmended','Not Reconmended']\n",
        "fig, ax = plt.subplots(figsize=(8,8))\n",
        "sns.heatmap(matrix, annot=True,xticklabels=class_names,yticklabels=class_names,ax = ax,fmt='g',cmap='coolwarm')\n",
        "plt.show()"
      ],
      "execution_count": 81,
      "outputs": [
        {
          "output_type": "display_data",
          "data": {
            "image/png": "[encoded data removed]",
            "text/plain": [
              "<Figure size 576x576 with 2 Axes>"
            ]
          },
          "metadata": {
            "tags": [],
            "needs_background": "light"
          }
        }
      ]
    },
    {
      "cell_type": "code",
      "metadata": {
        "id": "SJXorvwilDR3",
        "colab_type": "code",
        "colab": {
          "base_uri": "https://localhost:8080/",
          "height": 170
        },
        "outputId": "37ad2c2d-7f04-475a-d95c-b299c8765493"
      },
      "source": [
        "print(classification_report(Y_train,Y_train_pred))"
      ],
      "execution_count": 82,
      "outputs": [
        {
          "output_type": "stream",
          "text": [
            "                 precision    recall  f1-score   support\n",
            "\n",
            "Not Recommended       0.92      0.91      0.91       579\n",
            "    Recommended       0.94      0.95      0.94       851\n",
            "\n",
            "       accuracy                           0.93      1430\n",
            "      macro avg       0.93      0.93      0.93      1430\n",
            "   weighted avg       0.93      0.93      0.93      1430\n",
            "\n"
          ],
          "name": "stdout"
        }
      ]
    },
    {
      "cell_type": "code",
      "metadata": {
        "id": "yZVgvAMliHcr",
        "colab_type": "code",
        "colab": {
          "base_uri": "https://localhost:8080/",
          "height": 483
        },
        "outputId": "a087c50e-18ff-4cea-f85d-64174fddeee0"
      },
      "source": [
        "Y_pred = nb.predict(X_test_cv)\n",
        "matrix = confusion_matrix(Y_test,Y_pred)\n",
        "class_names =['Reconmended','Not Reconmended']\n",
        "fig, ax = plt.subplots(figsize=(8,8))\n",
        "sns.heatmap(matrix, annot=True,xticklabels=class_names,yticklabels=class_names,ax = ax,fmt='g',cmap='coolwarm')\n",
        "plt.show()"
      ],
      "execution_count": 83,
      "outputs": [
        {
          "output_type": "display_data",
          "data": {
            "image/png": "[encoded data removed]",
            "text/plain": [
              "<Figure size 576x576 with 2 Axes>"
            ]
          },
          "metadata": {
            "tags": [],
            "needs_background": "light"
          }
        }
      ]
    },
    {
      "cell_type": "code",
      "metadata": {
        "id": "N3ILGUeyj1ek",
        "colab_type": "code",
        "colab": {
          "base_uri": "https://localhost:8080/",
          "height": 170
        },
        "outputId": "e8d1b83e-f55e-4d97-e9be-6a68d49fd12f"
      },
      "source": [
        "print(classification_report(Y_test,Y_pred))"
      ],
      "execution_count": 84,
      "outputs": [
        {
          "output_type": "stream",
          "text": [
            "                 precision    recall  f1-score   support\n",
            "\n",
            "Not Recommended       0.86      0.82      0.84       147\n",
            "    Recommended       0.88      0.91      0.89       211\n",
            "\n",
            "       accuracy                           0.87       358\n",
            "      macro avg       0.87      0.86      0.87       358\n",
            "   weighted avg       0.87      0.87      0.87       358\n",
            "\n"
          ],
          "name": "stdout"
        }
      ]
    },
    {
      "cell_type": "code",
      "metadata": {
        "id": "b9aVVzaUf4w9",
        "colab_type": "code",
        "colab": {
          "base_uri": "https://localhost:8080/",
          "height": 34
        },
        "outputId": "57ccfee3-2e8f-4c2b-e654-18c7df76aae6"
      },
      "source": [
        "print(\"Accuracy : \",nb.score(X_test_cv,Y_test))"
      ],
      "execution_count": 67,
      "outputs": [
        {
          "output_type": "stream",
          "text": [
            "Accuracy :  0.8715083798882681\n"
          ],
          "name": "stdout"
        }
      ]
    },
    {
      "cell_type": "markdown",
      "metadata": {
        "id": "xhUvv7PEgaeF",
        "colab_type": "text"
      },
      "source": [
        "#6 : Lưu mô hình"
      ]
    },
    {
      "cell_type": "code",
      "metadata": {
        "id": "V_n6svQoh8uS",
        "colab_type": "code",
        "colab": {
          "base_uri": "https://localhost:8080/",
          "height": 34
        },
        "outputId": "7c9e486e-ee87-4a66-9f42-d0bffa6cc290"
      },
      "source": [
        "import joblib\n",
        "joblib.dump(nb,'model.h5')"
      ],
      "execution_count": 85,
      "outputs": [
        {
          "output_type": "execute_result",
          "data": {
            "text/plain": [
              "['model.h5']"
            ]
          },
          "metadata": {
            "tags": []
          },
          "execution_count": 85
        }
      ]
    }
  ]
}